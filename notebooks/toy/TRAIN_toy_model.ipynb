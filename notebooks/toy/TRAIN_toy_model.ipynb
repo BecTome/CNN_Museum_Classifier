{
 "cells": [
  {
   "cell_type": "markdown",
   "metadata": {},
   "source": [
    "# Train Toy Model"
   ]
  },
  {
   "cell_type": "code",
   "execution_count": 1,
   "metadata": {},
   "outputs": [
    {
     "name": "stderr",
     "output_type": "stream",
     "text": [
      "2023-09-29 15:02:40.133463: I tensorflow/core/util/port.cc:110] oneDNN custom operations are on. You may see slightly different numerical results due to floating-point round-off errors from different computation orders. To turn them off, set the environment variable `TF_ENABLE_ONEDNN_OPTS=0`.\n",
      "2023-09-29 15:02:40.156486: I tensorflow/core/platform/cpu_feature_guard.cc:182] This TensorFlow binary is optimized to use available CPU instructions in performance-critical operations.\n",
      "To enable the following instructions: AVX2 AVX_VNNI FMA, in other operations, rebuild TensorFlow with the appropriate compiler flags.\n",
      "2023-09-29 15:02:40.510568: W tensorflow/compiler/tf2tensorrt/utils/py_utils.cc:38] TF-TRT Warning: Could not find TensorRT\n"
     ]
    },
    {
     "name": "stdout",
     "output_type": "stream",
     "text": [
      "GPU name:  [PhysicalDevice(name='/physical_device:GPU:0', device_type='GPU')]\n"
     ]
    },
    {
     "name": "stderr",
     "output_type": "stream",
     "text": [
      "2023-09-29 15:02:42.252339: I tensorflow/compiler/xla/stream_executor/cuda/cuda_gpu_executor.cc:995] successful NUMA node read from SysFS had negative value (-1), but there must be at least one NUMA node, so returning NUMA node zero. See more at https://github.com/torvalds/linux/blob/v6.0/Documentation/ABI/testing/sysfs-bus-pci#L344-L355\n",
      "2023-09-29 15:02:42.267405: I tensorflow/compiler/xla/stream_executor/cuda/cuda_gpu_executor.cc:995] successful NUMA node read from SysFS had negative value (-1), but there must be at least one NUMA node, so returning NUMA node zero. See more at https://github.com/torvalds/linux/blob/v6.0/Documentation/ABI/testing/sysfs-bus-pci#L344-L355\n",
      "2023-09-29 15:02:42.267502: I tensorflow/compiler/xla/stream_executor/cuda/cuda_gpu_executor.cc:995] successful NUMA node read from SysFS had negative value (-1), but there must be at least one NUMA node, so returning NUMA node zero. See more at https://github.com/torvalds/linux/blob/v6.0/Documentation/ABI/testing/sysfs-bus-pci#L344-L355\n"
     ]
    }
   ],
   "source": [
    "import os\n",
    "import pandas as pd\n",
    "import matplotlib.pyplot as plt\n",
    "import numpy as np\n",
    "\n",
    "from tensorflow import keras\n",
    "import tensorflow as tf\n",
    "\n",
    "RAW_DATA_PATH = 'input/data/'\n",
    "\n",
    "MINITRAIN_PATH = 'input/toy/train/'\n",
    "MINIVAL_PATH = 'input/toy/val/'\n",
    "MINITEST_PATH = 'input/toy/test/'\n",
    "\n",
    "META_PATH = 'input/metadata/'\n",
    "IMG_SIZE = 256\n",
    "N_CHANNELS = 3\n",
    "\n",
    "print('GPU name: ', tf.config.experimental.list_physical_devices('GPU'))"
   ]
  },
  {
   "cell_type": "code",
   "execution_count": 2,
   "metadata": {},
   "outputs": [
    {
     "name": "stdout",
     "output_type": "stream",
     "text": [
      "(1400, 256, 256, 3) (1400,)\n",
      "(560, 256, 256, 3) (560,)\n",
      "(1400, 256, 256, 3) (1400,)\n"
     ]
    }
   ],
   "source": [
    "train_data = np.load(os.path.join(MINITRAIN_PATH, 'train.npz'))\n",
    "X_train, y_train = train_data['X'], train_data['y']\n",
    "output_shape = np.unique(y_train).shape[0]\n",
    "print(X_train.shape, y_train.shape)\n",
    "\n",
    "val_data = np.load(os.path.join(MINIVAL_PATH, 'val.npz'))\n",
    "X_val, y_val = val_data['X'], val_data['y']\n",
    "print(X_val.shape, y_val.shape)\n",
    "\n",
    "test_data = np.load(os.path.join(MINITEST_PATH, 'test.npz'))\n",
    "X_test, y_test = test_data['X'], test_data['y']\n",
    "print(X_test.shape, y_test.shape)"
   ]
  },
  {
   "cell_type": "code",
   "execution_count": 14,
   "metadata": {},
   "outputs": [
    {
     "name": "stdout",
     "output_type": "stream",
     "text": [
      "Model: \"sequential_6\"\n",
      "_________________________________________________________________\n",
      " Layer (type)                Output Shape              Param #   \n",
      "=================================================================\n",
      " rescaling_6 (Rescaling)     (None, 256, 256, 3)       0         \n",
      "                                                                 \n",
      " conv2d_13 (Conv2D)          (None, 254, 254, 16)      448       \n",
      "                                                                 \n",
      " max_pooling2d_13 (MaxPooli  (None, 63, 63, 16)        0         \n",
      " ng2D)                                                           \n",
      "                                                                 \n",
      " conv2d_14 (Conv2D)          (None, 61, 61, 128)       18560     \n",
      "                                                                 \n",
      " dropout_28 (Dropout)        (None, 61, 61, 128)       0         \n",
      "                                                                 \n",
      " max_pooling2d_14 (MaxPooli  (None, 15, 15, 128)       0         \n",
      " ng2D)                                                           \n",
      "                                                                 \n",
      " flatten_6 (Flatten)         (None, 28800)             0         \n",
      "                                                                 \n",
      " dropout_29 (Dropout)        (None, 28800)             0         \n",
      "                                                                 \n",
      " dense_12 (Dense)            (None, 64)                1843264   \n",
      "                                                                 \n",
      " dense_13 (Dense)            (None, 28)                1820      \n",
      "                                                                 \n",
      "=================================================================\n",
      "Total params: 1864092 (7.11 MB)\n",
      "Trainable params: 1864092 (7.11 MB)\n",
      "Non-trainable params: 0 (0.00 Byte)\n",
      "_________________________________________________________________\n"
     ]
    }
   ],
   "source": [
    "from tensorflow import keras\n",
    "\n",
    "layers = [\n",
    "    keras.Input(shape=(IMG_SIZE, IMG_SIZE, N_CHANNELS)),\n",
    "    keras.layers.Rescaling(1./255.),\n",
    "    # keras.layers.Dropout(0.8),\n",
    "    keras.layers.Conv2D(16,(3,3), activation = 'relu'),\n",
    "    keras.layers.MaxPooling2D(pool_size = (4,4)),\n",
    "\n",
    "    # keras.layers.Dropout(0.8),\n",
    "    keras.layers.Conv2D(128,(3,3), activation = 'relu'),\n",
    "    keras.layers.Dropout(0.8),\n",
    "    keras.layers.MaxPooling2D(pool_size = (4,4)),\n",
    "\n",
    "    keras.layers.Flatten(),\n",
    "    keras.layers.Dropout(0.8),\n",
    "    keras.layers.Dense(64, activation='relu'),\n",
    "    keras.layers.Dense(output_shape, activation='softmax')\n",
    "]\n",
    "\n",
    "model = keras.Sequential(layers)\n",
    "'''\n",
    "sparse_categorical_crossentropy para cuando las categorias vienen en una unica columna\n",
    "categorical_crossentropy para cuando las categorias vienen en formato dummy\n",
    "'''\n",
    "model.compile(optimizer=keras.optimizers.legacy.Adam(learning_rate=0.0001),\n",
    "              loss='sparse_categorical_crossentropy',\n",
    "              metrics=['accuracy'])\n",
    "\n",
    "model.summary()"
   ]
  },
  {
   "cell_type": "code",
   "execution_count": 15,
   "metadata": {},
   "outputs": [
    {
     "name": "stdout",
     "output_type": "stream",
     "text": [
      "Epoch 1/100\n",
      " 33/175 [====>.........................] - ETA: 0s - loss: 3.7826 - accuracy: 0.0227 "
     ]
    },
    {
     "name": "stderr",
     "output_type": "stream",
     "text": [
      "2023-09-29 15:10:17.977776: E tensorflow/core/grappler/optimizers/meta_optimizer.cc:954] layout failed: INVALID_ARGUMENT: Size of values 0 does not match size of permutation 4 @ fanin shape insequential_6/dropout_28/dropout/SelectV2-2-TransposeNHWCToNCHW-LayoutOptimizer\n"
     ]
    },
    {
     "name": "stdout",
     "output_type": "stream",
     "text": [
      "175/175 [==============================] - 1s 6ms/step - loss: 3.4361 - accuracy: 0.0307 - val_loss: 3.3308 - val_accuracy: 0.0571\n",
      "Epoch 2/100\n",
      "175/175 [==============================] - 1s 5ms/step - loss: 3.2909 - accuracy: 0.0600 - val_loss: 3.2910 - val_accuracy: 0.0911\n",
      "Epoch 3/100\n",
      "175/175 [==============================] - 1s 6ms/step - loss: 3.2232 - accuracy: 0.0793 - val_loss: 3.2494 - val_accuracy: 0.1054\n",
      "Epoch 4/100\n",
      "175/175 [==============================] - 1s 5ms/step - loss: 3.1192 - accuracy: 0.1229 - val_loss: 3.1948 - val_accuracy: 0.1446\n",
      "Epoch 5/100\n",
      "175/175 [==============================] - 1s 6ms/step - loss: 2.9175 - accuracy: 0.1507 - val_loss: 3.0749 - val_accuracy: 0.2304\n",
      "Epoch 6/100\n",
      "175/175 [==============================] - 1s 6ms/step - loss: 2.6195 - accuracy: 0.2321 - val_loss: 2.9710 - val_accuracy: 0.2625\n",
      "Epoch 7/100\n",
      "175/175 [==============================] - 1s 6ms/step - loss: 2.3561 - accuracy: 0.3029 - val_loss: 2.8568 - val_accuracy: 0.3250\n",
      "Epoch 8/100\n",
      "175/175 [==============================] - 1s 6ms/step - loss: 2.1761 - accuracy: 0.3493 - val_loss: 2.8042 - val_accuracy: 0.3446\n",
      "Epoch 9/100\n",
      "175/175 [==============================] - 1s 6ms/step - loss: 2.0630 - accuracy: 0.3736 - val_loss: 2.7409 - val_accuracy: 0.3661\n",
      "Epoch 10/100\n",
      "175/175 [==============================] - 1s 6ms/step - loss: 1.9330 - accuracy: 0.4100 - val_loss: 2.6931 - val_accuracy: 0.3786\n",
      "Epoch 11/100\n",
      "175/175 [==============================] - 1s 6ms/step - loss: 1.8427 - accuracy: 0.4336 - val_loss: 2.6556 - val_accuracy: 0.3750\n",
      "Epoch 12/100\n",
      "175/175 [==============================] - 1s 6ms/step - loss: 1.7576 - accuracy: 0.4579 - val_loss: 2.6318 - val_accuracy: 0.3821\n",
      "Epoch 13/100\n",
      "175/175 [==============================] - 1s 5ms/step - loss: 1.6786 - accuracy: 0.4957 - val_loss: 2.6248 - val_accuracy: 0.3554\n",
      "Epoch 14/100\n",
      "175/175 [==============================] - 1s 6ms/step - loss: 1.6238 - accuracy: 0.5157 - val_loss: 2.5819 - val_accuracy: 0.3696\n",
      "Epoch 15/100\n",
      "175/175 [==============================] - 1s 6ms/step - loss: 1.5109 - accuracy: 0.5400 - val_loss: 2.5504 - val_accuracy: 0.4054\n",
      "Epoch 16/100\n",
      "175/175 [==============================] - 1s 6ms/step - loss: 1.4485 - accuracy: 0.5636 - val_loss: 2.5135 - val_accuracy: 0.4071\n",
      "Epoch 17/100\n",
      "175/175 [==============================] - 1s 6ms/step - loss: 1.3963 - accuracy: 0.5800 - val_loss: 2.4975 - val_accuracy: 0.3804\n",
      "Epoch 18/100\n",
      "175/175 [==============================] - 1s 6ms/step - loss: 1.3417 - accuracy: 0.5850 - val_loss: 2.4838 - val_accuracy: 0.3946\n",
      "Epoch 19/100\n",
      "175/175 [==============================] - 1s 7ms/step - loss: 1.2791 - accuracy: 0.6186 - val_loss: 2.4480 - val_accuracy: 0.4018\n",
      "Epoch 20/100\n",
      "175/175 [==============================] - 1s 6ms/step - loss: 1.2172 - accuracy: 0.6236 - val_loss: 2.4394 - val_accuracy: 0.4089\n",
      "Epoch 21/100\n",
      "175/175 [==============================] - 1s 6ms/step - loss: 1.1863 - accuracy: 0.6421 - val_loss: 2.4356 - val_accuracy: 0.4089\n",
      "Epoch 22/100\n",
      "175/175 [==============================] - 1s 5ms/step - loss: 1.1325 - accuracy: 0.6571 - val_loss: 2.4126 - val_accuracy: 0.4304\n",
      "Epoch 23/100\n",
      "175/175 [==============================] - 1s 6ms/step - loss: 1.0942 - accuracy: 0.6693 - val_loss: 2.4018 - val_accuracy: 0.4196\n",
      "Epoch 24/100\n",
      "175/175 [==============================] - 1s 6ms/step - loss: 1.0371 - accuracy: 0.6971 - val_loss: 2.3979 - val_accuracy: 0.3982\n",
      "Epoch 25/100\n",
      "175/175 [==============================] - 1s 5ms/step - loss: 0.9891 - accuracy: 0.6957 - val_loss: 2.3602 - val_accuracy: 0.4304\n",
      "Epoch 26/100\n",
      "175/175 [==============================] - 1s 6ms/step - loss: 0.9539 - accuracy: 0.7157 - val_loss: 2.3492 - val_accuracy: 0.4018\n",
      "Epoch 27/100\n",
      "175/175 [==============================] - 1s 6ms/step - loss: 0.9067 - accuracy: 0.7214 - val_loss: 2.3183 - val_accuracy: 0.4232\n",
      "Epoch 28/100\n",
      "175/175 [==============================] - 1s 6ms/step - loss: 0.8655 - accuracy: 0.7393 - val_loss: 2.3458 - val_accuracy: 0.4214\n",
      "Epoch 29/100\n",
      "175/175 [==============================] - 1s 6ms/step - loss: 0.8479 - accuracy: 0.7464 - val_loss: 2.2824 - val_accuracy: 0.4357\n",
      "Epoch 30/100\n",
      "175/175 [==============================] - 1s 6ms/step - loss: 0.7903 - accuracy: 0.7700 - val_loss: 2.2740 - val_accuracy: 0.4464\n",
      "Epoch 31/100\n",
      "175/175 [==============================] - 1s 6ms/step - loss: 0.7841 - accuracy: 0.7629 - val_loss: 2.2943 - val_accuracy: 0.4375\n",
      "Epoch 32/100\n",
      "175/175 [==============================] - 1s 6ms/step - loss: 0.7351 - accuracy: 0.7800 - val_loss: 2.2723 - val_accuracy: 0.4179\n",
      "Epoch 33/100\n",
      "175/175 [==============================] - 1s 6ms/step - loss: 0.7041 - accuracy: 0.7850 - val_loss: 2.2461 - val_accuracy: 0.4429\n",
      "Epoch 34/100\n",
      "175/175 [==============================] - 1s 6ms/step - loss: 0.6939 - accuracy: 0.7964 - val_loss: 2.2351 - val_accuracy: 0.4536\n",
      "Epoch 35/100\n",
      "175/175 [==============================] - 1s 6ms/step - loss: 0.6529 - accuracy: 0.8150 - val_loss: 2.2387 - val_accuracy: 0.4429\n",
      "Epoch 36/100\n",
      "175/175 [==============================] - 1s 6ms/step - loss: 0.5846 - accuracy: 0.8200 - val_loss: 2.2001 - val_accuracy: 0.4571\n",
      "Epoch 37/100\n",
      "175/175 [==============================] - 1s 6ms/step - loss: 0.6102 - accuracy: 0.8221 - val_loss: 2.2049 - val_accuracy: 0.4321\n",
      "Epoch 38/100\n",
      "175/175 [==============================] - 1s 6ms/step - loss: 0.5605 - accuracy: 0.8329 - val_loss: 2.2101 - val_accuracy: 0.4250\n",
      "Epoch 39/100\n",
      "175/175 [==============================] - 1s 6ms/step - loss: 0.5522 - accuracy: 0.8271 - val_loss: 2.1796 - val_accuracy: 0.4357\n",
      "Epoch 40/100\n",
      "175/175 [==============================] - 1s 7ms/step - loss: 0.5271 - accuracy: 0.8400 - val_loss: 2.1658 - val_accuracy: 0.4571\n",
      "Epoch 41/100\n",
      "175/175 [==============================] - 1s 7ms/step - loss: 0.5142 - accuracy: 0.8529 - val_loss: 2.1453 - val_accuracy: 0.4446\n",
      "Epoch 42/100\n",
      "175/175 [==============================] - 1s 7ms/step - loss: 0.4921 - accuracy: 0.8586 - val_loss: 2.1548 - val_accuracy: 0.4554\n",
      "Epoch 43/100\n",
      "175/175 [==============================] - 1s 6ms/step - loss: 0.4834 - accuracy: 0.8536 - val_loss: 2.1757 - val_accuracy: 0.4411\n",
      "Epoch 44/100\n",
      "175/175 [==============================] - 1s 6ms/step - loss: 0.4607 - accuracy: 0.8600 - val_loss: 2.1155 - val_accuracy: 0.4643\n",
      "Epoch 45/100\n",
      "175/175 [==============================] - 1s 7ms/step - loss: 0.4316 - accuracy: 0.8857 - val_loss: 2.1303 - val_accuracy: 0.4357\n",
      "Epoch 46/100\n",
      "175/175 [==============================] - 1s 6ms/step - loss: 0.4279 - accuracy: 0.8679 - val_loss: 2.1390 - val_accuracy: 0.4321\n",
      "Epoch 47/100\n",
      "175/175 [==============================] - 1s 7ms/step - loss: 0.4162 - accuracy: 0.8800 - val_loss: 2.1121 - val_accuracy: 0.4625\n",
      "Epoch 48/100\n",
      "175/175 [==============================] - 1s 7ms/step - loss: 0.3939 - accuracy: 0.8879 - val_loss: 2.1119 - val_accuracy: 0.4607\n",
      "Epoch 49/100\n",
      "175/175 [==============================] - 1s 6ms/step - loss: 0.3726 - accuracy: 0.8957 - val_loss: 2.0780 - val_accuracy: 0.4518\n",
      "Epoch 50/100\n",
      "175/175 [==============================] - 1s 6ms/step - loss: 0.3578 - accuracy: 0.8957 - val_loss: 2.1082 - val_accuracy: 0.4429\n",
      "Epoch 51/100\n",
      "175/175 [==============================] - 1s 6ms/step - loss: 0.3269 - accuracy: 0.9093 - val_loss: 2.0807 - val_accuracy: 0.4518\n",
      "Epoch 52/100\n",
      "175/175 [==============================] - 1s 6ms/step - loss: 0.3193 - accuracy: 0.9057 - val_loss: 2.0817 - val_accuracy: 0.4518\n",
      "Epoch 53/100\n",
      "175/175 [==============================] - 1s 7ms/step - loss: 0.3270 - accuracy: 0.8993 - val_loss: 2.1083 - val_accuracy: 0.4196\n",
      "Epoch 54/100\n",
      "175/175 [==============================] - 1s 7ms/step - loss: 0.3241 - accuracy: 0.9071 - val_loss: 2.0647 - val_accuracy: 0.4571\n",
      "Epoch 55/100\n",
      "175/175 [==============================] - 1s 6ms/step - loss: 0.2890 - accuracy: 0.9114 - val_loss: 2.0890 - val_accuracy: 0.4589\n",
      "Epoch 56/100\n",
      "175/175 [==============================] - 1s 6ms/step - loss: 0.2714 - accuracy: 0.9164 - val_loss: 2.0388 - val_accuracy: 0.4446\n",
      "Epoch 57/100\n",
      "175/175 [==============================] - 1s 6ms/step - loss: 0.2763 - accuracy: 0.9121 - val_loss: 2.0462 - val_accuracy: 0.4518\n",
      "Epoch 58/100\n",
      "175/175 [==============================] - 1s 6ms/step - loss: 0.2538 - accuracy: 0.9321 - val_loss: 2.0415 - val_accuracy: 0.4482\n",
      "Epoch 59/100\n",
      "175/175 [==============================] - 1s 7ms/step - loss: 0.2541 - accuracy: 0.9271 - val_loss: 2.0480 - val_accuracy: 0.4429\n",
      "Epoch 60/100\n",
      "175/175 [==============================] - 1s 7ms/step - loss: 0.2417 - accuracy: 0.9264 - val_loss: 1.9943 - val_accuracy: 0.4661\n",
      "Epoch 61/100\n",
      "175/175 [==============================] - 1s 7ms/step - loss: 0.2272 - accuracy: 0.9336 - val_loss: 2.0018 - val_accuracy: 0.4661\n",
      "Epoch 62/100\n",
      "175/175 [==============================] - 1s 6ms/step - loss: 0.2300 - accuracy: 0.9271 - val_loss: 2.0039 - val_accuracy: 0.4625\n",
      "Epoch 63/100\n",
      "175/175 [==============================] - 1s 6ms/step - loss: 0.2372 - accuracy: 0.9286 - val_loss: 1.9997 - val_accuracy: 0.4554\n",
      "Epoch 64/100\n",
      "175/175 [==============================] - 1s 6ms/step - loss: 0.2141 - accuracy: 0.9343 - val_loss: 2.0102 - val_accuracy: 0.4625\n",
      "Epoch 65/100\n",
      "175/175 [==============================] - 1s 6ms/step - loss: 0.2476 - accuracy: 0.9293 - val_loss: 2.0345 - val_accuracy: 0.4589\n",
      "Epoch 66/100\n",
      "175/175 [==============================] - 1s 6ms/step - loss: 0.2073 - accuracy: 0.9457 - val_loss: 1.9968 - val_accuracy: 0.4643\n",
      "Epoch 67/100\n",
      "175/175 [==============================] - 1s 6ms/step - loss: 0.2098 - accuracy: 0.9329 - val_loss: 2.0003 - val_accuracy: 0.4375\n",
      "Epoch 68/100\n",
      "175/175 [==============================] - 1s 6ms/step - loss: 0.2159 - accuracy: 0.9393 - val_loss: 2.0012 - val_accuracy: 0.4679\n",
      "Epoch 69/100\n",
      "175/175 [==============================] - 1s 6ms/step - loss: 0.1961 - accuracy: 0.9486 - val_loss: 1.9920 - val_accuracy: 0.4446\n",
      "Epoch 70/100\n",
      "175/175 [==============================] - 1s 7ms/step - loss: 0.1579 - accuracy: 0.9571 - val_loss: 1.9978 - val_accuracy: 0.4554\n",
      "Epoch 71/100\n",
      "175/175 [==============================] - 1s 7ms/step - loss: 0.1749 - accuracy: 0.9521 - val_loss: 1.9811 - val_accuracy: 0.4679\n",
      "Epoch 72/100\n",
      "175/175 [==============================] - 1s 6ms/step - loss: 0.1787 - accuracy: 0.9514 - val_loss: 1.9646 - val_accuracy: 0.4625\n",
      "Epoch 73/100\n",
      "175/175 [==============================] - 1s 6ms/step - loss: 0.1756 - accuracy: 0.9479 - val_loss: 1.9672 - val_accuracy: 0.4679\n",
      "Epoch 74/100\n",
      "175/175 [==============================] - 1s 7ms/step - loss: 0.1447 - accuracy: 0.9664 - val_loss: 1.9688 - val_accuracy: 0.4357\n",
      "Epoch 75/100\n",
      "175/175 [==============================] - 1s 7ms/step - loss: 0.1490 - accuracy: 0.9607 - val_loss: 1.9492 - val_accuracy: 0.4607\n",
      "Epoch 76/100\n",
      "175/175 [==============================] - 1s 6ms/step - loss: 0.1587 - accuracy: 0.9471 - val_loss: 1.9493 - val_accuracy: 0.4661\n",
      "Epoch 77/100\n",
      "175/175 [==============================] - 1s 6ms/step - loss: 0.1408 - accuracy: 0.9643 - val_loss: 1.9486 - val_accuracy: 0.4643\n",
      "Epoch 78/100\n",
      "175/175 [==============================] - 1s 6ms/step - loss: 0.1668 - accuracy: 0.9593 - val_loss: 1.9470 - val_accuracy: 0.4571\n",
      "Epoch 79/100\n",
      "175/175 [==============================] - 1s 6ms/step - loss: 0.1496 - accuracy: 0.9521 - val_loss: 1.9610 - val_accuracy: 0.4571\n",
      "Epoch 80/100\n",
      "175/175 [==============================] - 1s 6ms/step - loss: 0.1350 - accuracy: 0.9636 - val_loss: 1.9722 - val_accuracy: 0.4554\n",
      "Epoch 81/100\n",
      "175/175 [==============================] - 1s 6ms/step - loss: 0.1262 - accuracy: 0.9757 - val_loss: 1.9302 - val_accuracy: 0.4589\n",
      "Epoch 82/100\n",
      "175/175 [==============================] - 1s 6ms/step - loss: 0.1422 - accuracy: 0.9579 - val_loss: 1.9455 - val_accuracy: 0.4482\n",
      "Epoch 83/100\n",
      "175/175 [==============================] - 1s 7ms/step - loss: 0.1391 - accuracy: 0.9643 - val_loss: 1.9505 - val_accuracy: 0.4571\n",
      "Epoch 84/100\n",
      "175/175 [==============================] - 1s 6ms/step - loss: 0.1424 - accuracy: 0.9636 - val_loss: 1.9512 - val_accuracy: 0.4732\n",
      "Epoch 85/100\n",
      "175/175 [==============================] - 1s 6ms/step - loss: 0.1264 - accuracy: 0.9657 - val_loss: 1.9200 - val_accuracy: 0.4714\n",
      "Epoch 86/100\n",
      "175/175 [==============================] - 1s 6ms/step - loss: 0.1396 - accuracy: 0.9629 - val_loss: 1.9441 - val_accuracy: 0.4411\n",
      "Epoch 87/100\n",
      "175/175 [==============================] - 1s 6ms/step - loss: 0.1130 - accuracy: 0.9736 - val_loss: 1.9145 - val_accuracy: 0.4750\n",
      "Epoch 88/100\n",
      "175/175 [==============================] - 1s 6ms/step - loss: 0.1196 - accuracy: 0.9621 - val_loss: 1.9138 - val_accuracy: 0.4768\n",
      "Epoch 89/100\n",
      "175/175 [==============================] - 1s 7ms/step - loss: 0.1110 - accuracy: 0.9707 - val_loss: 1.9134 - val_accuracy: 0.4804\n",
      "Epoch 90/100\n",
      "175/175 [==============================] - 1s 6ms/step - loss: 0.1323 - accuracy: 0.9636 - val_loss: 1.9618 - val_accuracy: 0.4625\n",
      "Epoch 91/100\n",
      "175/175 [==============================] - 1s 6ms/step - loss: 0.1181 - accuracy: 0.9693 - val_loss: 1.9158 - val_accuracy: 0.4643\n",
      "Epoch 92/100\n",
      "175/175 [==============================] - 1s 6ms/step - loss: 0.1047 - accuracy: 0.9664 - val_loss: 1.9176 - val_accuracy: 0.4714\n",
      "Epoch 93/100\n",
      "175/175 [==============================] - 1s 6ms/step - loss: 0.1222 - accuracy: 0.9693 - val_loss: 1.9336 - val_accuracy: 0.4536\n",
      "Epoch 94/100\n",
      "175/175 [==============================] - 1s 6ms/step - loss: 0.1081 - accuracy: 0.9693 - val_loss: 1.9424 - val_accuracy: 0.4500\n",
      "Epoch 95/100\n",
      "175/175 [==============================] - 1s 6ms/step - loss: 0.1121 - accuracy: 0.9693 - val_loss: 1.9431 - val_accuracy: 0.4446\n",
      "Epoch 96/100\n",
      "175/175 [==============================] - 1s 6ms/step - loss: 0.1023 - accuracy: 0.9693 - val_loss: 1.9282 - val_accuracy: 0.4554\n",
      "Epoch 97/100\n",
      "175/175 [==============================] - 1s 6ms/step - loss: 0.1272 - accuracy: 0.9629 - val_loss: 1.9041 - val_accuracy: 0.4714\n",
      "Epoch 98/100\n",
      "175/175 [==============================] - 1s 6ms/step - loss: 0.1126 - accuracy: 0.9636 - val_loss: 1.9422 - val_accuracy: 0.4482\n",
      "Epoch 99/100\n",
      "175/175 [==============================] - 1s 6ms/step - loss: 0.0957 - accuracy: 0.9757 - val_loss: 1.9257 - val_accuracy: 0.4768\n",
      "Epoch 100/100\n",
      "175/175 [==============================] - 1s 6ms/step - loss: 0.0884 - accuracy: 0.9779 - val_loss: 1.8922 - val_accuracy: 0.4625\n"
     ]
    },
    {
     "data": {
      "text/plain": [
       "<keras.src.callbacks.History at 0x7f57346a3710>"
      ]
     },
     "execution_count": 15,
     "metadata": {},
     "output_type": "execute_result"
    }
   ],
   "source": [
    "model.fit(X_train, y_train, epochs=100, batch_size=8, validation_data=(X_val, y_val))"
   ]
  },
  {
   "cell_type": "code",
   "execution_count": 16,
   "metadata": {},
   "outputs": [
    {
     "data": {
      "text/plain": [
       "<Axes: >"
      ]
     },
     "execution_count": 16,
     "metadata": {},
     "output_type": "execute_result"
    },
    {
     "data": {
      "image/png": "[encoded data removed]",
      "text/plain": [
       "<Figure size 1500x500 with 2 Axes>"
      ]
     },
     "metadata": {},
     "output_type": "display_data"
    }
   ],
   "source": [
    "df_hist = model.history.history\n",
    "df_hist = pd.DataFrame(df_hist)\n",
    "\n",
    "fig, ax = plt.subplots(1,2, figsize=(15,5))\n",
    "df_hist[['accuracy', 'val_accuracy']].plot(ax=ax[0])\n",
    "df_hist[['loss', 'val_loss']].plot(ax=ax[1])"
   ]
  },
  {
   "cell_type": "code",
   "execution_count": null,
   "metadata": {},
   "outputs": [],
   "source": []
  },
  {
   "cell_type": "code",
   "execution_count": null,
   "metadata": {},
   "outputs": [],
   "source": [
    "from keras.preprocessing.image import ImageDataGenerator#, load_img\n",
    "train_datagen = ImageDataGenerator(\n",
    "    rotation_range=15,\n",
    "    rescale=1./255,\n",
    "    shear_range=0.1,\n",
    "    zoom_range=0.2,\n",
    "    horizontal_flip=True,\n",
    "    width_shift_range=0.1,\n",
    "    height_shift_range=0.1\n",
    ")\n",
    "\n",
    "train_generator = train_datagen.flow_from_dataframe(\n",
    "    train_df, \n",
    "    MINITRAIN_PATH, \n",
    "    x_col='filename',\n",
    "    y_col='category',\n",
    "    target_size=(IMAGE_HEIGHT, IMAGE_WIDTH),\n",
    "    class_mode='binary',\n",
    "    batch_size=BATCH_SIZE\n",
    ")"
   ]
  }
 ],
 "metadata": {
  "kernelspec": {
   "display_name": "tensorflow",
   "language": "python",
   "name": "python3"
  },
  "language_info": {
   "codemirror_mode": {
    "name": "ipython",
    "version": 3
   },
   "file_extension": ".py",
   "mimetype": "text/x-python",
   "name": "python",
   "nbconvert_exporter": "python",
   "pygments_lexer": "ipython3",
   "version": "3.11.5"
  },
  "orig_nbformat": 4
 },
 "nbformat": 4,
 "nbformat_minor": 2
}

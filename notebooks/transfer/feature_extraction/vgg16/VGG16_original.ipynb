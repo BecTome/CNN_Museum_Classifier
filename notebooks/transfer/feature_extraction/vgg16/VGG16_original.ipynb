{
 "cells": [
  {
   "cell_type": "markdown",
   "metadata": {},
   "source": [
    "# Transfer Learning Approach"
   ]
  },
  {
   "cell_type": "code",
   "execution_count": 1,
   "metadata": {},
   "outputs": [
    {
     "name": "stderr",
     "output_type": "stream",
     "text": [
      "2023-11-24 17:39:17.351877: I tensorflow/core/util/port.cc:110] oneDNN custom operations are on. You may see slightly different numerical results due to floating-point round-off errors from different computation orders. To turn them off, set the environment variable `TF_ENABLE_ONEDNN_OPTS=0`.\n",
      "2023-11-24 17:39:17.376134: I tensorflow/core/platform/cpu_feature_guard.cc:182] This TensorFlow binary is optimized to use available CPU instructions in performance-critical operations.\n",
      "To enable the following instructions: AVX2 AVX_VNNI FMA, in other operations, rebuild TensorFlow with the appropriate compiler flags.\n",
      "2023-11-24 17:39:17.737649: W tensorflow/compiler/tf2tensorrt/utils/py_utils.cc:38] TF-TRT Warning: Could not find TensorRT\n"
     ]
    },
    {
     "data": {
      "text/html": [
       "<div>\n",
       "<style scoped>\n",
       "    .dataframe tbody tr th:only-of-type {\n",
       "        vertical-align: middle;\n",
       "    }\n",
       "\n",
       "    .dataframe tbody tr th {\n",
       "        vertical-align: top;\n",
       "    }\n",
       "\n",
       "    .dataframe thead th {\n",
       "        text-align: right;\n",
       "    }\n",
       "</style>\n",
       "<table border=\"1\" class=\"dataframe\">\n",
       "  <thead>\n",
       "    <tr style=\"text-align: right;\">\n",
       "      <th></th>\n",
       "      <th>Image file</th>\n",
       "      <th>Subset</th>\n",
       "      <th>Medium</th>\n",
       "    </tr>\n",
       "  </thead>\n",
       "  <tbody>\n",
       "    <tr>\n",
       "      <th>0</th>\n",
       "      <td>436018.jpg</td>\n",
       "      <td>train</td>\n",
       "      <td>Oil on canvas</td>\n",
       "    </tr>\n",
       "    <tr>\n",
       "      <th>1</th>\n",
       "      <td>11779.jpg</td>\n",
       "      <td>train</td>\n",
       "      <td>Oil on canvas</td>\n",
       "    </tr>\n",
       "    <tr>\n",
       "      <th>2</th>\n",
       "      <td>19022.jpg</td>\n",
       "      <td>train</td>\n",
       "      <td>Oil on canvas</td>\n",
       "    </tr>\n",
       "    <tr>\n",
       "      <th>3</th>\n",
       "      <td>435883.jpg</td>\n",
       "      <td>train</td>\n",
       "      <td>Oil on canvas</td>\n",
       "    </tr>\n",
       "    <tr>\n",
       "      <th>4</th>\n",
       "      <td>10481.jpg</td>\n",
       "      <td>train</td>\n",
       "      <td>Oil on canvas</td>\n",
       "    </tr>\n",
       "    <tr>\n",
       "      <th>...</th>\n",
       "      <td>...</td>\n",
       "      <td>...</td>\n",
       "      <td>...</td>\n",
       "    </tr>\n",
       "    <tr>\n",
       "      <th>37402</th>\n",
       "      <td>261318.jpg</td>\n",
       "      <td>test</td>\n",
       "      <td>Albumen photograph</td>\n",
       "    </tr>\n",
       "    <tr>\n",
       "      <th>37403</th>\n",
       "      <td>646703.jpg</td>\n",
       "      <td>test</td>\n",
       "      <td>Albumen photograph</td>\n",
       "    </tr>\n",
       "    <tr>\n",
       "      <th>37404</th>\n",
       "      <td>417445.jpg</td>\n",
       "      <td>test</td>\n",
       "      <td>Albumen photograph</td>\n",
       "    </tr>\n",
       "    <tr>\n",
       "      <th>37405</th>\n",
       "      <td>646328.jpg</td>\n",
       "      <td>test</td>\n",
       "      <td>Albumen photograph</td>\n",
       "    </tr>\n",
       "    <tr>\n",
       "      <th>37406</th>\n",
       "      <td>414770.jpg</td>\n",
       "      <td>test</td>\n",
       "      <td>Albumen photograph</td>\n",
       "    </tr>\n",
       "  </tbody>\n",
       "</table>\n",
       "<p>37407 rows × 3 columns</p>\n",
       "</div>"
      ],
      "text/plain": [
       "       Image file Subset              Medium\n",
       "0      436018.jpg  train       Oil on canvas\n",
       "1       11779.jpg  train       Oil on canvas\n",
       "2       19022.jpg  train       Oil on canvas\n",
       "3      435883.jpg  train       Oil on canvas\n",
       "4       10481.jpg  train       Oil on canvas\n",
       "...           ...    ...                 ...\n",
       "37402  261318.jpg   test  Albumen photograph\n",
       "37403  646703.jpg   test  Albumen photograph\n",
       "37404  417445.jpg   test  Albumen photograph\n",
       "37405  646328.jpg   test  Albumen photograph\n",
       "37406  414770.jpg   test  Albumen photograph\n",
       "\n",
       "[37407 rows x 3 columns]"
      ]
     },
     "execution_count": 1,
     "metadata": {},
     "output_type": "execute_result"
    }
   ],
   "source": [
    "## Train a model to classify the images\n",
    "#\n",
    "## Import libraries\n",
    "\n",
    "import os\n",
    "import numpy as np\n",
    "\n",
    "from tensorflow import keras\n",
    "np.random.seed(0)\n",
    "\n",
    "import src.config as config\n",
    "from src.dataloader import read_train, read_val\n",
    "from src.preprocessing import CustomDataGenerator\n",
    "from src.results import plot_history, plot_cm, class_report,\\\n",
    "                            save_params, write_summary\n",
    "from src.utils import setup_logger, header\n",
    "import argparse\n",
    "import pandas as pd\n",
    "from tensorflow.keras.preprocessing.image import ImageDataGenerator\n",
    "import matplotlib.pyplot as plt\n",
    "from keras.regularizers import l2,l1,l1_l2\n",
    "\n",
    "RAW_DATA_PATH = 'input/data/raw'\n",
    "META_PATH = 'input/metadata/'\n",
    "\n",
    "## Set up constants\n",
    "LEARNING_RATE = .0001\n",
    "BATCH_SIZE = 64\n",
    "EPOCHS = 10\n",
    "EXPNAME = \"experiment\"\n",
    "EVENTNAME = f\"lr_{LEARNING_RATE}_bs_{BATCH_SIZE}_ep_{EPOCHS}\"\n",
    "OUTPUT_FOLDER = \"notebooks/transfer/output\"\n",
    "\n",
    "\n",
    "#Readind data directly from the csv file and raw images in order to use data augmentation\n",
    "df_labels = pd.read_csv(os.path.join(META_PATH, 'MAMe_labels.csv'), header=None, names=['id', 'label'])\n",
    "df_labels['label'] = df_labels['label'].str.strip()\n",
    "df_info = pd.read_csv(META_PATH + 'MAMe_dataset.csv')\n",
    "df_info[\"Medium\"] = df_info[\"Medium\"].str.strip()\n",
    "df_load_data = df_info.merge(df_labels, right_on='label', left_on='Medium')[['Image file', 'Subset', 'Medium']]\n",
    "\n",
    "df_load_data"
   ]
  },
  {
   "cell_type": "code",
   "execution_count": 2,
   "metadata": {},
   "outputs": [
    {
     "name": "stderr",
     "output_type": "stream",
     "text": [
      "2023-11-24 17:39:18.600439: I tensorflow/compiler/xla/stream_executor/cuda/cuda_gpu_executor.cc:995] successful NUMA node read from SysFS had negative value (-1), but there must be at least one NUMA node, so returning NUMA node zero. See more at https://github.com/torvalds/linux/blob/v6.0/Documentation/ABI/testing/sysfs-bus-pci#L344-L355\n",
      "2023-11-24 17:39:18.616226: I tensorflow/compiler/xla/stream_executor/cuda/cuda_gpu_executor.cc:995] successful NUMA node read from SysFS had negative value (-1), but there must be at least one NUMA node, so returning NUMA node zero. See more at https://github.com/torvalds/linux/blob/v6.0/Documentation/ABI/testing/sysfs-bus-pci#L344-L355\n",
      "2023-11-24 17:39:18.616342: I tensorflow/compiler/xla/stream_executor/cuda/cuda_gpu_executor.cc:995] successful NUMA node read from SysFS had negative value (-1), but there must be at least one NUMA node, so returning NUMA node zero. See more at https://github.com/torvalds/linux/blob/v6.0/Documentation/ABI/testing/sysfs-bus-pci#L344-L355\n",
      "2023-11-24 17:39:18.618959: I tensorflow/compiler/xla/stream_executor/cuda/cuda_gpu_executor.cc:995] successful NUMA node read from SysFS had negative value (-1), but there must be at least one NUMA node, so returning NUMA node zero. See more at https://github.com/torvalds/linux/blob/v6.0/Documentation/ABI/testing/sysfs-bus-pci#L344-L355\n",
      "2023-11-24 17:39:18.619091: I tensorflow/compiler/xla/stream_executor/cuda/cuda_gpu_executor.cc:995] successful NUMA node read from SysFS had negative value (-1), but there must be at least one NUMA node, so returning NUMA node zero. See more at https://github.com/torvalds/linux/blob/v6.0/Documentation/ABI/testing/sysfs-bus-pci#L344-L355\n",
      "2023-11-24 17:39:18.619186: I tensorflow/compiler/xla/stream_executor/cuda/cuda_gpu_executor.cc:995] successful NUMA node read from SysFS had negative value (-1), but there must be at least one NUMA node, so returning NUMA node zero. See more at https://github.com/torvalds/linux/blob/v6.0/Documentation/ABI/testing/sysfs-bus-pci#L344-L355\n",
      "2023-11-24 17:39:18.670816: I tensorflow/compiler/xla/stream_executor/cuda/cuda_gpu_executor.cc:995] successful NUMA node read from SysFS had negative value (-1), but there must be at least one NUMA node, so returning NUMA node zero. See more at https://github.com/torvalds/linux/blob/v6.0/Documentation/ABI/testing/sysfs-bus-pci#L344-L355\n",
      "2023-11-24 17:39:18.670913: I tensorflow/compiler/xla/stream_executor/cuda/cuda_gpu_executor.cc:995] successful NUMA node read from SysFS had negative value (-1), but there must be at least one NUMA node, so returning NUMA node zero. See more at https://github.com/torvalds/linux/blob/v6.0/Documentation/ABI/testing/sysfs-bus-pci#L344-L355\n",
      "2023-11-24 17:39:18.670993: I tensorflow/compiler/xla/stream_executor/cuda/cuda_gpu_executor.cc:995] successful NUMA node read from SysFS had negative value (-1), but there must be at least one NUMA node, so returning NUMA node zero. See more at https://github.com/torvalds/linux/blob/v6.0/Documentation/ABI/testing/sysfs-bus-pci#L344-L355\n",
      "2023-11-24 17:39:18.671049: I tensorflow/core/common_runtime/gpu/gpu_device.cc:1639] Created device /job:localhost/replica:0/task:0/device:GPU:0 with 6263 MB memory:  -> device: 0, name: NVIDIA GeForce RTX 4070 Laptop GPU, pci bus id: 0000:01:00.0, compute capability: 8.9\n"
     ]
    },
    {
     "name": "stdout",
     "output_type": "stream",
     "text": [
      "Model: \"model\"\n",
      "_________________________________________________________________\n",
      " Layer (type)                Output Shape              Param #   \n",
      "=================================================================\n",
      " input_1 (InputLayer)        [(None, 224, 224, 3)]     0         \n",
      "                                                                 \n",
      " block1_conv1 (Conv2D)       (None, 224, 224, 64)      1792      \n",
      "                                                                 \n",
      " block1_conv2 (Conv2D)       (None, 224, 224, 64)      36928     \n",
      "                                                                 \n",
      " block1_pool (MaxPooling2D)  (None, 112, 112, 64)      0         \n",
      "                                                                 \n",
      " block2_conv1 (Conv2D)       (None, 112, 112, 128)     73856     \n",
      "                                                                 \n",
      " block2_conv2 (Conv2D)       (None, 112, 112, 128)     147584    \n",
      "                                                                 \n",
      " block2_pool (MaxPooling2D)  (None, 56, 56, 128)       0         \n",
      "                                                                 \n",
      " block3_conv1 (Conv2D)       (None, 56, 56, 256)       295168    \n",
      "                                                                 \n",
      " block3_conv2 (Conv2D)       (None, 56, 56, 256)       590080    \n",
      "                                                                 \n",
      " block3_conv3 (Conv2D)       (None, 56, 56, 256)       590080    \n",
      "                                                                 \n",
      " block3_pool (MaxPooling2D)  (None, 28, 28, 256)       0         \n",
      "                                                                 \n",
      " block4_conv1 (Conv2D)       (None, 28, 28, 512)       1180160   \n",
      "                                                                 \n",
      " block4_conv2 (Conv2D)       (None, 28, 28, 512)       2359808   \n",
      "                                                                 \n",
      " block4_conv3 (Conv2D)       (None, 28, 28, 512)       2359808   \n",
      "                                                                 \n",
      " block4_pool (MaxPooling2D)  (None, 14, 14, 512)       0         \n",
      "                                                                 \n",
      " block5_conv1 (Conv2D)       (None, 14, 14, 512)       2359808   \n",
      "                                                                 \n",
      " block5_conv2 (Conv2D)       (None, 14, 14, 512)       2359808   \n",
      "                                                                 \n",
      " block5_conv3 (Conv2D)       (None, 14, 14, 512)       2359808   \n",
      "                                                                 \n",
      " block5_pool (MaxPooling2D)  (None, 7, 7, 512)         0         \n",
      "                                                                 \n",
      " flatten (Flatten)           (None, 25088)             0         \n",
      "                                                                 \n",
      " fc1 (Dense)                 (None, 4096)              102764544 \n",
      "                                                                 \n",
      " fc2 (Dense)                 (None, 4096)              16781312  \n",
      "                                                                 \n",
      " dense (Dense)               (None, 29)                118813    \n",
      "                                                                 \n",
      "=================================================================\n",
      "Total params: 134379357 (512.62 MB)\n",
      "Trainable params: 134379357 (512.62 MB)\n",
      "Non-trainable params: 0 (0.00 Byte)\n",
      "_________________________________________________________________\n"
     ]
    }
   ],
   "source": [
    "from keras import applications\n",
    "model = applications.VGG16(weights = \"imagenet\", include_top=True)\n",
    "\n",
    "# Change output layer\n",
    "from keras.models import Model\n",
    "from keras.layers import Dense, GlobalAveragePooling2D\n",
    "\n",
    "output_shape = len(config.LABELS)\n",
    "\n",
    "x = model.layers[-2].output\n",
    "predictions = Dense(output_shape, activation=\"softmax\")(x)\n",
    "model = Model(inputs=model.input, outputs=predictions)\n",
    "model.summary()\n"
   ]
  },
  {
   "cell_type": "code",
   "execution_count": 30,
   "metadata": {},
   "outputs": [],
   "source": [
    "from src.dataloader import read_train, read_val\n",
    "from src.preprocessing import CustomDataGenerator\n",
    "import cv2\n",
    "\n",
    "# X_train, y_train = read_train()\n",
    "X_val, y_val = read_val()\n",
    "\n",
    "X_val_resized = np.array([cv2.resize(img / 255. , (224, 224)) for img in X_val])"
   ]
  },
  {
   "cell_type": "code",
   "execution_count": 31,
   "metadata": {},
   "outputs": [],
   "source": [
    "from keras.applications.vgg16 import preprocess_input\n",
    "X_val_resized = preprocess_input(X_val_resized)"
   ]
  },
  {
   "cell_type": "code",
   "execution_count": 33,
   "metadata": {},
   "outputs": [
    {
     "name": "stdout",
     "output_type": "stream",
     "text": [
      "46/46 [==============================] - 4s 84ms/step\n"
     ]
    }
   ],
   "source": [
    "y_pred_vgg16 = model.predict(X_val_resized)"
   ]
  },
  {
   "cell_type": "code",
   "execution_count": 34,
   "metadata": {},
   "outputs": [
    {
     "name": "stdout",
     "output_type": "stream",
     "text": [
      "Accuracy: 0.0345\n"
     ]
    }
   ],
   "source": [
    "y_pred_vgg16_lab = np.argmax(y_pred_vgg16, axis=1)\n",
    "accuracy_vgg16 = np.mean(y_pred_vgg16_lab == y_val)\n",
    "print(f\"Accuracy: {accuracy_vgg16:.4f}\")"
   ]
  }
 ],
 "metadata": {
  "kernelspec": {
   "display_name": "tensorflow",
   "language": "python",
   "name": "python3"
  },
  "language_info": {
   "codemirror_mode": {
    "name": "ipython",
    "version": 3
   },
   "file_extension": ".py",
   "mimetype": "text/x-python",
   "name": "python",
   "nbconvert_exporter": "python",
   "pygments_lexer": "ipython3",
   "version": "3.11.5"
  }
 },
 "nbformat": 4,
 "nbformat_minor": 2
}
